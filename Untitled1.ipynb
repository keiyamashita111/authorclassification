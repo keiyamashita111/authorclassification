{
 "cells": [
  {
   "cell_type": "code",
   "execution_count": 7,
   "metadata": {},
   "outputs": [],
   "source": [
    "import pandas as pd\n",
    "import numpy as np"
   ]
  },
  {
   "cell_type": "code",
   "execution_count": 21,
   "metadata": {},
   "outputs": [],
   "source": [
    "df = pd.read_csv('./bert/glue_data/AuthorClass/train.csv')"
   ]
  },
  {
   "cell_type": "code",
   "execution_count": 3,
   "metadata": {},
   "outputs": [],
   "source": [
    "#df2 = df.sample(frac=0.1)"
   ]
  },
  {
   "cell_type": "code",
   "execution_count": 4,
   "metadata": {},
   "outputs": [],
   "source": [
    "df2.to_csv('train_2.csv', index=False)"
   ]
  },
  {
   "cell_type": "code",
   "execution_count": 5,
   "metadata": {},
   "outputs": [
    {
     "data": {
      "text/html": [
       "<div>\n",
       "<style scoped>\n",
       "    .dataframe tbody tr th:only-of-type {\n",
       "        vertical-align: middle;\n",
       "    }\n",
       "\n",
       "    .dataframe tbody tr th {\n",
       "        vertical-align: top;\n",
       "    }\n",
       "\n",
       "    .dataframe thead th {\n",
       "        text-align: right;\n",
       "    }\n",
       "</style>\n",
       "<table border=\"1\" class=\"dataframe\">\n",
       "  <thead>\n",
       "    <tr style=\"text-align: right;\">\n",
       "      <th></th>\n",
       "      <th>text</th>\n",
       "      <th>author</th>\n",
       "    </tr>\n",
       "  </thead>\n",
       "  <tbody>\n",
       "    <tr>\n",
       "      <td>3981</td>\n",
       "      <td>planning thinking and trying go in old directi...</td>\n",
       "      <td>8</td>\n",
       "    </tr>\n",
       "    <tr>\n",
       "      <td>42565</td>\n",
       "      <td>ve got out of the habit of lying to you old ma...</td>\n",
       "      <td>39</td>\n",
       "    </tr>\n",
       "    <tr>\n",
       "      <td>38573</td>\n",
       "      <td>moment how earnestly i pray that you may be a ...</td>\n",
       "      <td>37</td>\n",
       "    </tr>\n",
       "    <tr>\n",
       "      <td>29230</td>\n",
       "      <td>travelled in the same look and hue a short pau...</td>\n",
       "      <td>26</td>\n",
       "    </tr>\n",
       "    <tr>\n",
       "      <td>49670</td>\n",
       "      <td>true returned her father again agitated in spi...</td>\n",
       "      <td>45</td>\n",
       "    </tr>\n",
       "    <tr>\n",
       "      <td>...</td>\n",
       "      <td>...</td>\n",
       "      <td>...</td>\n",
       "    </tr>\n",
       "    <tr>\n",
       "      <td>30325</td>\n",
       "      <td>are paying miss no great compliment i think ma...</td>\n",
       "      <td>26</td>\n",
       "    </tr>\n",
       "    <tr>\n",
       "      <td>52534</td>\n",
       "      <td>world to tell the private truth cares but litt...</td>\n",
       "      <td>48</td>\n",
       "    </tr>\n",
       "    <tr>\n",
       "      <td>19709</td>\n",
       "      <td>without let us pass friend or we shall not be ...</td>\n",
       "      <td>18</td>\n",
       "    </tr>\n",
       "    <tr>\n",
       "      <td>46582</td>\n",
       "      <td>local and life it was a low building of red br...</td>\n",
       "      <td>43</td>\n",
       "    </tr>\n",
       "    <tr>\n",
       "      <td>50501</td>\n",
       "      <td>had somehow got twisted around and was perched...</td>\n",
       "      <td>46</td>\n",
       "    </tr>\n",
       "  </tbody>\n",
       "</table>\n",
       "<p>5368 rows × 2 columns</p>\n",
       "</div>"
      ],
      "text/plain": [
       "                                                    text  author\n",
       "3981   planning thinking and trying go in old directi...       8\n",
       "42565  ve got out of the habit of lying to you old ma...      39\n",
       "38573  moment how earnestly i pray that you may be a ...      37\n",
       "29230  travelled in the same look and hue a short pau...      26\n",
       "49670  true returned her father again agitated in spi...      45\n",
       "...                                                  ...     ...\n",
       "30325  are paying miss no great compliment i think ma...      26\n",
       "52534  world to tell the private truth cares but litt...      48\n",
       "19709  without let us pass friend or we shall not be ...      18\n",
       "46582  local and life it was a low building of red br...      43\n",
       "50501  had somehow got twisted around and was perched...      46\n",
       "\n",
       "[5368 rows x 2 columns]"
      ]
     },
     "execution_count": 5,
     "metadata": {},
     "output_type": "execute_result"
    }
   ],
   "source": [
    "df2[['text', 'author']]\n"
   ]
  },
  {
   "cell_type": "code",
   "execution_count": 20,
   "metadata": {},
   "outputs": [
    {
     "data": {
      "text/plain": [
       "[4, 8, 9, 14, 15, 18, 19, 21, 25, 26, 30, 33, 37, 38, 39, 42, 43, 45, 48, 50]"
      ]
     },
     "execution_count": 20,
     "metadata": {},
     "output_type": "execute_result"
    }
   ],
   "source": [
    "sorted(df['author'].value_counts()[0:20].index.values)"
   ]
  },
  {
   "cell_type": "code",
   "execution_count": 18,
   "metadata": {},
   "outputs": [
    {
     "data": {
      "text/plain": [
       "18"
      ]
     },
     "execution_count": 18,
     "metadata": {},
     "output_type": "execute_result"
    }
   ],
   "source": [
    "df['a']"
   ]
  },
  {
   "cell_type": "code",
   "execution_count": 22,
   "metadata": {},
   "outputs": [
    {
     "data": {
      "text/plain": [
       "8     6914\n",
       "26    4441\n",
       "14    2696\n",
       "37    2387\n",
       "45    2312\n",
       "21    2307\n",
       "39    2266\n",
       "48    1825\n",
       "33    1742\n",
       "19    1543\n",
       "4     1483\n",
       "15    1460\n",
       "43    1266\n",
       "38    1163\n",
       "25    1159\n",
       "9     1108\n",
       "18    1078\n",
       "42    1022\n",
       "30     972\n",
       "50     914\n",
       "1      912\n",
       "41     911\n",
       "28     823\n",
       "10     755\n",
       "32     703\n",
       "36     693\n",
       "17     660\n",
       "35     659\n",
       "29     645\n",
       "12     627\n",
       "46     605\n",
       "20     587\n",
       "22     495\n",
       "13     485\n",
       "44     468\n",
       "23     455\n",
       "34     453\n",
       "40     430\n",
       "6      407\n",
       "11     383\n",
       "2      382\n",
       "24     380\n",
       "27     306\n",
       "3      213\n",
       "16     183\n",
       "Name: author, dtype: int64"
      ]
     },
     "execution_count": 22,
     "metadata": {},
     "output_type": "execute_result"
    }
   ],
   "source": [
    "df['author'].value_counts()"
   ]
  },
  {
   "cell_type": "code",
   "execution_count": 30,
   "metadata": {},
   "outputs": [],
   "source": [
    "val = df['author'].value_counts()[20:].index.values"
   ]
  },
  {
   "cell_type": "code",
   "execution_count": 32,
   "metadata": {},
   "outputs": [
    {
     "data": {
      "text/plain": [
       "array([ 1, 41, 28, 10, 32, 36, 17, 35, 29, 12, 46, 20, 22, 13, 44, 23, 34,\n",
       "       40,  6, 11,  2, 24, 27,  3, 16])"
      ]
     },
     "execution_count": 32,
     "metadata": {},
     "output_type": "execute_result"
    }
   ],
   "source": [
    "val"
   ]
  },
  {
   "cell_type": "code",
   "execution_count": 36,
   "metadata": {},
   "outputs": [],
   "source": [
    "mask = df['author'].isin([1, 41, 28, 10, 32, 36, 17, 35, 29, 12, 46, 20, 22, 13, 44, 23, 34,\n",
    "       40,  6, 11,  2, 24, 27,  3, 16])"
   ]
  },
  {
   "cell_type": "code",
   "execution_count": 41,
   "metadata": {},
   "outputs": [
    {
     "data": {
      "text/plain": [
       "1     912\n",
       "41    911\n",
       "28    823\n",
       "10    755\n",
       "32    703\n",
       "36    693\n",
       "17    660\n",
       "35    659\n",
       "29    645\n",
       "12    627\n",
       "46    605\n",
       "20    587\n",
       "22    495\n",
       "13    485\n",
       "44    468\n",
       "23    455\n",
       "34    453\n",
       "40    430\n",
       "6     407\n",
       "11    383\n",
       "2     382\n",
       "24    380\n",
       "27    306\n",
       "3     213\n",
       "16    183\n",
       "Name: author, dtype: int64"
      ]
     },
     "execution_count": 41,
     "metadata": {},
     "output_type": "execute_result"
    }
   ],
   "source": [
    "df[mask]['author'].value_counts()"
   ]
  },
  {
   "cell_type": "code",
   "execution_count": 67,
   "metadata": {},
   "outputs": [],
   "source": [
    "def separate(group):\n",
    "    sample = group.sample(105)\n",
    "    return sample\n",
    "\n",
    "def separate_train(group):\n",
    "    sample = group[100:]\n",
    "    return sample\n",
    "\n",
    "def separate_test(group):\n",
    "    sample = group[0:100]\n",
    "    return sample"
   ]
  },
  {
   "cell_type": "code",
   "execution_count": 62,
   "metadata": {},
   "outputs": [
    {
     "data": {
      "text/html": [
       "<div>\n",
       "<style scoped>\n",
       "    .dataframe tbody tr th:only-of-type {\n",
       "        vertical-align: middle;\n",
       "    }\n",
       "\n",
       "    .dataframe tbody tr th {\n",
       "        vertical-align: top;\n",
       "    }\n",
       "\n",
       "    .dataframe thead th {\n",
       "        text-align: right;\n",
       "    }\n",
       "</style>\n",
       "<table border=\"1\" class=\"dataframe\">\n",
       "  <thead>\n",
       "    <tr style=\"text-align: right;\">\n",
       "      <th></th>\n",
       "      <th>text</th>\n",
       "      <th>author</th>\n",
       "    </tr>\n",
       "  </thead>\n",
       "  <tbody>\n",
       "    <tr>\n",
       "      <td>0</td>\n",
       "      <td>ou have time to listen i will give you the ent...</td>\n",
       "      <td>1</td>\n",
       "    </tr>\n",
       "    <tr>\n",
       "      <td>1</td>\n",
       "      <td>wish for solitude he was twenty years of age a...</td>\n",
       "      <td>1</td>\n",
       "    </tr>\n",
       "    <tr>\n",
       "      <td>2</td>\n",
       "      <td>and the skirt blew in perfect freedom about th...</td>\n",
       "      <td>1</td>\n",
       "    </tr>\n",
       "    <tr>\n",
       "      <td>3</td>\n",
       "      <td>of san and the rows of shops opposite impresse...</td>\n",
       "      <td>1</td>\n",
       "    </tr>\n",
       "    <tr>\n",
       "      <td>4</td>\n",
       "      <td>an hour s walk was as tiresome as three in a s...</td>\n",
       "      <td>1</td>\n",
       "    </tr>\n",
       "  </tbody>\n",
       "</table>\n",
       "</div>"
      ],
      "text/plain": [
       "                                                text  author\n",
       "0  ou have time to listen i will give you the ent...       1\n",
       "1  wish for solitude he was twenty years of age a...       1\n",
       "2  and the skirt blew in perfect freedom about th...       1\n",
       "3  of san and the rows of shops opposite impresse...       1\n",
       "4  an hour s walk was as tiresome as three in a s...       1"
      ]
     },
     "execution_count": 62,
     "metadata": {},
     "output_type": "execute_result"
    }
   ],
   "source": [
    "df[mask].head()"
   ]
  },
  {
   "cell_type": "code",
   "execution_count": 63,
   "metadata": {},
   "outputs": [],
   "source": [
    "separated_df = df.groupby('author').apply(separate)"
   ]
  },
  {
   "cell_type": "code",
   "execution_count": 65,
   "metadata": {
    "collapsed": true,
    "jupyter": {
     "outputs_hidden": true
    }
   },
   "outputs": [
    {
     "data": {
      "text/plain": [
       "43    105\n",
       "41    105\n",
       "33    105\n",
       "29    105\n",
       "25    105\n",
       "21    105\n",
       "17    105\n",
       "13    105\n",
       "9     105\n",
       "1     105\n",
       "48    105\n",
       "44    105\n",
       "40    105\n",
       "36    105\n",
       "32    105\n",
       "28    105\n",
       "24    105\n",
       "20    105\n",
       "16    105\n",
       "12    105\n",
       "8     105\n",
       "37    105\n",
       "45    105\n",
       "39    105\n",
       "2     105\n",
       "35    105\n",
       "27    105\n",
       "23    105\n",
       "19    105\n",
       "15    105\n",
       "11    105\n",
       "3     105\n",
       "50    105\n",
       "46    105\n",
       "42    105\n",
       "38    105\n",
       "34    105\n",
       "30    105\n",
       "26    105\n",
       "22    105\n",
       "18    105\n",
       "14    105\n",
       "10    105\n",
       "6     105\n",
       "4     105\n",
       "Name: author, dtype: int64"
      ]
     },
     "execution_count": 65,
     "metadata": {},
     "output_type": "execute_result"
    }
   ],
   "source": [
    "separated_df['author'].value_counts()"
   ]
  },
  {
   "cell_type": "code",
   "execution_count": 74,
   "metadata": {},
   "outputs": [
    {
     "data": {
      "text/html": [
       "<div>\n",
       "<style scoped>\n",
       "    .dataframe tbody tr th:only-of-type {\n",
       "        vertical-align: middle;\n",
       "    }\n",
       "\n",
       "    .dataframe tbody tr th {\n",
       "        vertical-align: top;\n",
       "    }\n",
       "\n",
       "    .dataframe thead th {\n",
       "        text-align: right;\n",
       "    }\n",
       "</style>\n",
       "<table border=\"1\" class=\"dataframe\">\n",
       "  <thead>\n",
       "    <tr style=\"text-align: right;\">\n",
       "      <th></th>\n",
       "      <th></th>\n",
       "      <th>text</th>\n",
       "      <th>author</th>\n",
       "    </tr>\n",
       "    <tr>\n",
       "      <th>author</th>\n",
       "      <th></th>\n",
       "      <th></th>\n",
       "      <th></th>\n",
       "    </tr>\n",
       "  </thead>\n",
       "  <tbody>\n",
       "    <tr>\n",
       "      <td rowspan=\"5\" valign=\"top\">1</td>\n",
       "      <td>575</td>\n",
       "      <td>could not get the music of them out of his min...</td>\n",
       "      <td>1</td>\n",
       "    </tr>\n",
       "    <tr>\n",
       "      <td>518</td>\n",
       "      <td>suggestion she had heard would have sounded fr...</td>\n",
       "      <td>1</td>\n",
       "    </tr>\n",
       "    <tr>\n",
       "      <td>784</td>\n",
       "      <td>this lady is that what i am given to understan...</td>\n",
       "      <td>1</td>\n",
       "    </tr>\n",
       "    <tr>\n",
       "      <td>52</td>\n",
       "      <td>behind him he answered you play a very silly c...</td>\n",
       "      <td>1</td>\n",
       "    </tr>\n",
       "    <tr>\n",
       "      <td>43</td>\n",
       "      <td>true the improvement was but slight but at lea...</td>\n",
       "      <td>1</td>\n",
       "    </tr>\n",
       "    <tr>\n",
       "      <td>...</td>\n",
       "      <td>...</td>\n",
       "      <td>...</td>\n",
       "      <td>...</td>\n",
       "    </tr>\n",
       "    <tr>\n",
       "      <td rowspan=\"5\" valign=\"top\">50</td>\n",
       "      <td>52805</td>\n",
       "      <td>she accompanied her words by a flood of tears ...</td>\n",
       "      <td>50</td>\n",
       "    </tr>\n",
       "    <tr>\n",
       "      <td>53576</td>\n",
       "      <td>will leave him reading with eagerness and whil...</td>\n",
       "      <td>50</td>\n",
       "    </tr>\n",
       "    <tr>\n",
       "      <td>53423</td>\n",
       "      <td>the breast floating is properly a transition f...</td>\n",
       "      <td>50</td>\n",
       "    </tr>\n",
       "    <tr>\n",
       "      <td>53565</td>\n",
       "      <td>way nobody him but himself let us help him i e...</td>\n",
       "      <td>50</td>\n",
       "    </tr>\n",
       "    <tr>\n",
       "      <td>53389</td>\n",
       "      <td>he ia dead it is not fifteen minutes he was wi...</td>\n",
       "      <td>50</td>\n",
       "    </tr>\n",
       "  </tbody>\n",
       "</table>\n",
       "<p>4725 rows × 2 columns</p>\n",
       "</div>"
      ],
      "text/plain": [
       "                                                           text  author\n",
       "author                                                                 \n",
       "1      575    could not get the music of them out of his min...       1\n",
       "       518    suggestion she had heard would have sounded fr...       1\n",
       "       784    this lady is that what i am given to understan...       1\n",
       "       52     behind him he answered you play a very silly c...       1\n",
       "       43     true the improvement was but slight but at lea...       1\n",
       "...                                                         ...     ...\n",
       "50     52805  she accompanied her words by a flood of tears ...      50\n",
       "       53576  will leave him reading with eagerness and whil...      50\n",
       "       53423  the breast floating is properly a transition f...      50\n",
       "       53565  way nobody him but himself let us help him i e...      50\n",
       "       53389  he ia dead it is not fifteen minutes he was wi...      50\n",
       "\n",
       "[4725 rows x 2 columns]"
      ]
     },
     "execution_count": 74,
     "metadata": {},
     "output_type": "execute_result"
    }
   ],
   "source": [
    "separated_df"
   ]
  },
  {
   "cell_type": "code",
   "execution_count": 76,
   "metadata": {},
   "outputs": [
    {
     "data": {
      "text/html": [
       "<div>\n",
       "<style scoped>\n",
       "    .dataframe tbody tr th:only-of-type {\n",
       "        vertical-align: middle;\n",
       "    }\n",
       "\n",
       "    .dataframe tbody tr th {\n",
       "        vertical-align: top;\n",
       "    }\n",
       "\n",
       "    .dataframe thead th {\n",
       "        text-align: right;\n",
       "    }\n",
       "</style>\n",
       "<table border=\"1\" class=\"dataframe\">\n",
       "  <thead>\n",
       "    <tr style=\"text-align: right;\">\n",
       "      <th></th>\n",
       "      <th>text</th>\n",
       "      <th>author</th>\n",
       "    </tr>\n",
       "  </thead>\n",
       "  <tbody>\n",
       "    <tr>\n",
       "      <td>0</td>\n",
       "      <td>could not get the music of them out of his min...</td>\n",
       "      <td>1</td>\n",
       "    </tr>\n",
       "    <tr>\n",
       "      <td>1</td>\n",
       "      <td>suggestion she had heard would have sounded fr...</td>\n",
       "      <td>1</td>\n",
       "    </tr>\n",
       "    <tr>\n",
       "      <td>2</td>\n",
       "      <td>this lady is that what i am given to understan...</td>\n",
       "      <td>1</td>\n",
       "    </tr>\n",
       "    <tr>\n",
       "      <td>3</td>\n",
       "      <td>behind him he answered you play a very silly c...</td>\n",
       "      <td>1</td>\n",
       "    </tr>\n",
       "    <tr>\n",
       "      <td>4</td>\n",
       "      <td>true the improvement was but slight but at lea...</td>\n",
       "      <td>1</td>\n",
       "    </tr>\n",
       "    <tr>\n",
       "      <td>...</td>\n",
       "      <td>...</td>\n",
       "      <td>...</td>\n",
       "    </tr>\n",
       "    <tr>\n",
       "      <td>4720</td>\n",
       "      <td>she accompanied her words by a flood of tears ...</td>\n",
       "      <td>50</td>\n",
       "    </tr>\n",
       "    <tr>\n",
       "      <td>4721</td>\n",
       "      <td>will leave him reading with eagerness and whil...</td>\n",
       "      <td>50</td>\n",
       "    </tr>\n",
       "    <tr>\n",
       "      <td>4722</td>\n",
       "      <td>the breast floating is properly a transition f...</td>\n",
       "      <td>50</td>\n",
       "    </tr>\n",
       "    <tr>\n",
       "      <td>4723</td>\n",
       "      <td>way nobody him but himself let us help him i e...</td>\n",
       "      <td>50</td>\n",
       "    </tr>\n",
       "    <tr>\n",
       "      <td>4724</td>\n",
       "      <td>he ia dead it is not fifteen minutes he was wi...</td>\n",
       "      <td>50</td>\n",
       "    </tr>\n",
       "  </tbody>\n",
       "</table>\n",
       "<p>4725 rows × 2 columns</p>\n",
       "</div>"
      ],
      "text/plain": [
       "                                                   text  author\n",
       "0     could not get the music of them out of his min...       1\n",
       "1     suggestion she had heard would have sounded fr...       1\n",
       "2     this lady is that what i am given to understan...       1\n",
       "3     behind him he answered you play a very silly c...       1\n",
       "4     true the improvement was but slight but at lea...       1\n",
       "...                                                 ...     ...\n",
       "4720  she accompanied her words by a flood of tears ...      50\n",
       "4721  will leave him reading with eagerness and whil...      50\n",
       "4722  the breast floating is properly a transition f...      50\n",
       "4723  way nobody him but himself let us help him i e...      50\n",
       "4724  he ia dead it is not fifteen minutes he was wi...      50\n",
       "\n",
       "[4725 rows x 2 columns]"
      ]
     },
     "execution_count": 76,
     "metadata": {},
     "output_type": "execute_result"
    }
   ],
   "source": [
    "separated_df.reset_index(drop=True)"
   ]
  },
  {
   "cell_type": "code",
   "execution_count": 88,
   "metadata": {},
   "outputs": [],
   "source": [
    "train_df = separated_df.reset_index(drop=True).groupby('author').apply(separate_train)"
   ]
  },
  {
   "cell_type": "code",
   "execution_count": 89,
   "metadata": {},
   "outputs": [],
   "source": [
    "test_df = separated_df.reset_index(drop=True).groupby('author').apply(separate_test)"
   ]
  },
  {
   "cell_type": "code",
   "execution_count": 91,
   "metadata": {},
   "outputs": [],
   "source": [
    "train_df.reset_index(drop=True).to_csv('few_shot_train.csv', index=False)\n",
    "test_df.reset_index(drop=True).to_csv('few_shot_test.csv',index=False)"
   ]
  },
  {
   "cell_type": "code",
   "execution_count": null,
   "metadata": {},
   "outputs": [],
   "source": []
  }
 ],
 "metadata": {
  "kernelspec": {
   "display_name": "Python [conda env:author_classification]",
   "language": "python",
   "name": "conda-env-author_classification-py"
  },
  "language_info": {
   "codemirror_mode": {
    "name": "ipython",
    "version": 3
   },
   "file_extension": ".py",
   "mimetype": "text/x-python",
   "name": "python",
   "nbconvert_exporter": "python",
   "pygments_lexer": "ipython3",
   "version": "3.6.0"
  }
 },
 "nbformat": 4,
 "nbformat_minor": 4
}
