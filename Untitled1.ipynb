{
 "cells": [
  {
   "cell_type": "code",
   "execution_count": 2,
   "metadata": {},
   "outputs": [],
   "source": [
    "import pandas as pd\n",
    "import numpy as np"
   ]
  },
  {
   "cell_type": "code",
   "execution_count": 5,
   "metadata": {},
   "outputs": [],
   "source": [
    "df = pd.read_csv('./bert/glue_data/AuthorClass/train.csv')"
   ]
  },
  {
   "cell_type": "code",
   "execution_count": 7,
   "metadata": {},
   "outputs": [],
   "source": [
    "df2 = df.sample(frac=0.1)"
   ]
  },
  {
   "cell_type": "code",
   "execution_count": 17,
   "metadata": {},
   "outputs": [],
   "source": [
    "df2.to_csv('train_2.csv', index=False)"
   ]
  },
  {
   "cell_type": "code",
   "execution_count": 15,
   "metadata": {},
   "outputs": [
    {
     "data": {
      "text/html": [
       "<div>\n",
       "<style scoped>\n",
       "    .dataframe tbody tr th:only-of-type {\n",
       "        vertical-align: middle;\n",
       "    }\n",
       "\n",
       "    .dataframe tbody tr th {\n",
       "        vertical-align: top;\n",
       "    }\n",
       "\n",
       "    .dataframe thead th {\n",
       "        text-align: right;\n",
       "    }\n",
       "</style>\n",
       "<table border=\"1\" class=\"dataframe\">\n",
       "  <thead>\n",
       "    <tr style=\"text-align: right;\">\n",
       "      <th></th>\n",
       "      <th>text</th>\n",
       "      <th>author</th>\n",
       "    </tr>\n",
       "  </thead>\n",
       "  <tbody>\n",
       "    <tr>\n",
       "      <td>22912</td>\n",
       "      <td>nd sizes some were short legged â too short ot...</td>\n",
       "      <td>21</td>\n",
       "    </tr>\n",
       "    <tr>\n",
       "      <td>18293</td>\n",
       "      <td>when she saw the twinkle in his eye she knew t...</td>\n",
       "      <td>17</td>\n",
       "    </tr>\n",
       "    <tr>\n",
       "      <td>40167</td>\n",
       "      <td>love thou doubly hast afflicted me with virtue...</td>\n",
       "      <td>37</td>\n",
       "    </tr>\n",
       "    <tr>\n",
       "      <td>41588</td>\n",
       "      <td>to see us but some birds and no resource for m...</td>\n",
       "      <td>38</td>\n",
       "    </tr>\n",
       "    <tr>\n",
       "      <td>40894</td>\n",
       "      <td>to tempt and to betray the traveller the path ...</td>\n",
       "      <td>38</td>\n",
       "    </tr>\n",
       "    <tr>\n",
       "      <td>...</td>\n",
       "      <td>...</td>\n",
       "      <td>...</td>\n",
       "    </tr>\n",
       "    <tr>\n",
       "      <td>22220</td>\n",
       "      <td>ll you to his place and he s getting forty fiv...</td>\n",
       "      <td>21</td>\n",
       "    </tr>\n",
       "    <tr>\n",
       "      <td>49260</td>\n",
       "      <td>by her husband and for the first time she wond...</td>\n",
       "      <td>45</td>\n",
       "    </tr>\n",
       "    <tr>\n",
       "      <td>10394</td>\n",
       "      <td>new baron that i may ask the favour of on my s...</td>\n",
       "      <td>9</td>\n",
       "    </tr>\n",
       "    <tr>\n",
       "      <td>18420</td>\n",
       "      <td>you had been a man you would have been an awfu...</td>\n",
       "      <td>17</td>\n",
       "    </tr>\n",
       "    <tr>\n",
       "      <td>48468</td>\n",
       "      <td>twenty at least â not caring to acknowledge th...</td>\n",
       "      <td>45</td>\n",
       "    </tr>\n",
       "  </tbody>\n",
       "</table>\n",
       "<p>5368 rows × 2 columns</p>\n",
       "</div>"
      ],
      "text/plain": [
       "                                                    text  author\n",
       "22912  nd sizes some were short legged â too short ot...      21\n",
       "18293  when she saw the twinkle in his eye she knew t...      17\n",
       "40167  love thou doubly hast afflicted me with virtue...      37\n",
       "41588  to see us but some birds and no resource for m...      38\n",
       "40894  to tempt and to betray the traveller the path ...      38\n",
       "...                                                  ...     ...\n",
       "22220  ll you to his place and he s getting forty fiv...      21\n",
       "49260  by her husband and for the first time she wond...      45\n",
       "10394  new baron that i may ask the favour of on my s...       9\n",
       "18420  you had been a man you would have been an awfu...      17\n",
       "48468  twenty at least â not caring to acknowledge th...      45\n",
       "\n",
       "[5368 rows x 2 columns]"
      ]
     },
     "execution_count": 15,
     "metadata": {},
     "output_type": "execute_result"
    }
   ],
   "source": [
    "df2[['text', 'author']]\n"
   ]
  },
  {
   "cell_type": "code",
   "execution_count": 19,
   "metadata": {},
   "outputs": [
    {
     "data": {
      "text/plain": [
       "8     0.126677\n",
       "26    0.082899\n",
       "14    0.049925\n",
       "37    0.047317\n",
       "21    0.045827\n",
       "45    0.041729\n",
       "39    0.037258\n",
       "48    0.033905\n",
       "33    0.030365\n",
       "15    0.028875\n",
       "19    0.027571\n",
       "4     0.026639\n",
       "38    0.024963\n",
       "25    0.023845\n",
       "43    0.023286\n",
       "42    0.021610\n",
       "9     0.021423\n",
       "1     0.020492\n",
       "30    0.019933\n",
       "18    0.017139\n",
       "41    0.016393\n",
       "32    0.014531\n",
       "28    0.013785\n",
       "10    0.013040\n",
       "12    0.013040\n",
       "50    0.012668\n",
       "17    0.012295\n",
       "36    0.011923\n",
       "35    0.011364\n",
       "46    0.010991\n",
       "22    0.010991\n",
       "29    0.010805\n",
       "13    0.010618\n",
       "20    0.010432\n",
       "34    0.008383\n",
       "44    0.008197\n",
       "2     0.008197\n",
       "23    0.008197\n",
       "6     0.008010\n",
       "40    0.007824\n",
       "11    0.007079\n",
       "27    0.006148\n",
       "24    0.006148\n",
       "3     0.004657\n",
       "16    0.002608\n",
       "Name: author, dtype: float64"
      ]
     },
     "execution_count": 19,
     "metadata": {},
     "output_type": "execute_result"
    }
   ],
   "source": [
    "df2['author'].value_counts() / len(df2)"
   ]
  },
  {
   "cell_type": "code",
   "execution_count": null,
   "metadata": {},
   "outputs": [],
   "source": []
  }
 ],
 "metadata": {
  "kernelspec": {
   "display_name": "Python [conda env:author_classification]",
   "language": "python",
   "name": "conda-env-author_classification-py"
  },
  "language_info": {
   "codemirror_mode": {
    "name": "ipython",
    "version": 3
   },
   "file_extension": ".py",
   "mimetype": "text/x-python",
   "name": "python",
   "nbconvert_exporter": "python",
   "pygments_lexer": "ipython3",
   "version": "3.6.0"
  }
 },
 "nbformat": 4,
 "nbformat_minor": 2
}
