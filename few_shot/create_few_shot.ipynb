{
 "cells": [
  {
   "cell_type": "code",
   "execution_count": 1,
   "metadata": {},
   "outputs": [],
   "source": [
    "import pandas as pd\n",
    "import numpy as np"
   ]
  },
  {
   "cell_type": "code",
   "execution_count": 2,
   "metadata": {},
   "outputs": [],
   "source": [
    "df = pd.read_csv('./bert/glue_data/AuthorClass/train.csv')"
   ]
  },
  {
   "cell_type": "code",
   "execution_count": 5,
   "metadata": {},
   "outputs": [],
   "source": [
    "#df2 = df.sample(frac=0.1)"
   ]
  },
  {
   "cell_type": "code",
   "execution_count": 6,
   "metadata": {},
   "outputs": [],
   "source": [
    "#df2.to_csv('train_2.csv', index=False)"
   ]
  },
  {
   "cell_type": "code",
   "execution_count": 7,
   "metadata": {},
   "outputs": [],
   "source": [
    "#df2[['text', 'author']]"
   ]
  },
  {
   "cell_type": "code",
   "execution_count": 4,
   "metadata": {},
   "outputs": [
    {
     "data": {
      "text/plain": [
       "[4, 8, 9, 14, 15, 18, 19, 21, 25, 26, 30, 33, 37, 38, 39, 42, 43, 45, 48, 50]"
      ]
     },
     "execution_count": 4,
     "metadata": {},
     "output_type": "execute_result"
    }
   ],
   "source": [
    "sorted(df['author'].value_counts()[0:20].index.values)"
   ]
  },
  {
   "cell_type": "code",
   "execution_count": 9,
   "metadata": {},
   "outputs": [
    {
     "data": {
      "text/plain": [
       "(53678, 2)"
      ]
     },
     "execution_count": 9,
     "metadata": {},
     "output_type": "execute_result"
    }
   ],
   "source": [
    "df.shape"
   ]
  },
  {
   "cell_type": "code",
   "execution_count": null,
   "metadata": {},
   "outputs": [],
   "source": [
    "df['author'].value_counts()"
   ]
  },
  {
   "cell_type": "code",
   "execution_count": 7,
   "metadata": {},
   "outputs": [],
   "source": [
    "val = df['author'].value_counts()[20:].index.values"
   ]
  },
  {
   "cell_type": "code",
   "execution_count": 8,
   "metadata": {},
   "outputs": [
    {
     "data": {
      "text/plain": [
       "array([ 1, 41, 28, 10, 32, 36, 17, 35, 29, 12, 46, 20, 22, 13, 44, 23, 34,\n",
       "       40,  6, 11,  2, 24, 27,  3, 16])"
      ]
     },
     "execution_count": 8,
     "metadata": {},
     "output_type": "execute_result"
    }
   ],
   "source": [
    "val"
   ]
  },
  {
   "cell_type": "code",
   "execution_count": 9,
   "metadata": {},
   "outputs": [],
   "source": [
    "mask = df['author'].isin([1, 41, 28, 10, 32, 36, 17, 35, 29, 12, 46, 20, 22, 13, 44, 23, 34,\n",
    "       40,  6, 11,  2, 24, 27,  3, 16])"
   ]
  },
  {
   "cell_type": "code",
   "execution_count": 10,
   "metadata": {},
   "outputs": [
    {
     "data": {
      "text/plain": [
       "1     912\n",
       "41    911\n",
       "28    823\n",
       "10    755\n",
       "32    703\n",
       "36    693\n",
       "17    660\n",
       "35    659\n",
       "29    645\n",
       "12    627\n",
       "46    605\n",
       "20    587\n",
       "22    495\n",
       "13    485\n",
       "44    468\n",
       "23    455\n",
       "34    453\n",
       "40    430\n",
       "6     407\n",
       "11    383\n",
       "2     382\n",
       "24    380\n",
       "27    306\n",
       "3     213\n",
       "16    183\n",
       "Name: author, dtype: int64"
      ]
     },
     "execution_count": 10,
     "metadata": {},
     "output_type": "execute_result"
    }
   ],
   "source": [
    "df[mask]['author'].value_counts()"
   ]
  },
  {
   "cell_type": "code",
   "execution_count": 11,
   "metadata": {},
   "outputs": [],
   "source": [
    "def separate(group):\n",
    "    sample = group.sample(105)\n",
    "    return sample\n",
    "\n",
    "def separate_train(group):\n",
    "    sample = group[100:]\n",
    "    return sample\n",
    "\n",
    "def separate_test(group):\n",
    "    sample = group[0:100]\n",
    "    return sample"
   ]
  },
  {
   "cell_type": "code",
   "execution_count": 12,
   "metadata": {},
   "outputs": [
    {
     "data": {
      "text/html": [
       "<div>\n",
       "<style scoped>\n",
       "    .dataframe tbody tr th:only-of-type {\n",
       "        vertical-align: middle;\n",
       "    }\n",
       "\n",
       "    .dataframe tbody tr th {\n",
       "        vertical-align: top;\n",
       "    }\n",
       "\n",
       "    .dataframe thead th {\n",
       "        text-align: right;\n",
       "    }\n",
       "</style>\n",
       "<table border=\"1\" class=\"dataframe\">\n",
       "  <thead>\n",
       "    <tr style=\"text-align: right;\">\n",
       "      <th></th>\n",
       "      <th>text</th>\n",
       "      <th>author</th>\n",
       "    </tr>\n",
       "  </thead>\n",
       "  <tbody>\n",
       "    <tr>\n",
       "      <td>0</td>\n",
       "      <td>ou have time to listen i will give you the ent...</td>\n",
       "      <td>1</td>\n",
       "    </tr>\n",
       "    <tr>\n",
       "      <td>1</td>\n",
       "      <td>wish for solitude he was twenty years of age a...</td>\n",
       "      <td>1</td>\n",
       "    </tr>\n",
       "    <tr>\n",
       "      <td>2</td>\n",
       "      <td>and the skirt blew in perfect freedom about th...</td>\n",
       "      <td>1</td>\n",
       "    </tr>\n",
       "    <tr>\n",
       "      <td>3</td>\n",
       "      <td>of san and the rows of shops opposite impresse...</td>\n",
       "      <td>1</td>\n",
       "    </tr>\n",
       "    <tr>\n",
       "      <td>4</td>\n",
       "      <td>an hour s walk was as tiresome as three in a s...</td>\n",
       "      <td>1</td>\n",
       "    </tr>\n",
       "  </tbody>\n",
       "</table>\n",
       "</div>"
      ],
      "text/plain": [
       "                                                text  author\n",
       "0  ou have time to listen i will give you the ent...       1\n",
       "1  wish for solitude he was twenty years of age a...       1\n",
       "2  and the skirt blew in perfect freedom about th...       1\n",
       "3  of san and the rows of shops opposite impresse...       1\n",
       "4  an hour s walk was as tiresome as three in a s...       1"
      ]
     },
     "execution_count": 12,
     "metadata": {},
     "output_type": "execute_result"
    }
   ],
   "source": [
    "df[mask].head()"
   ]
  },
  {
   "cell_type": "code",
   "execution_count": 13,
   "metadata": {},
   "outputs": [],
   "source": [
    "separated_df = df[mask].groupby('author').apply(separate)"
   ]
  },
  {
   "cell_type": "code",
   "execution_count": 14,
   "metadata": {},
   "outputs": [
    {
     "data": {
      "text/plain": [
       "41    105\n",
       "36    105\n",
       "6     105\n",
       "10    105\n",
       "12    105\n",
       "16    105\n",
       "20    105\n",
       "22    105\n",
       "24    105\n",
       "28    105\n",
       "32    105\n",
       "34    105\n",
       "40    105\n",
       "35    105\n",
       "44    105\n",
       "46    105\n",
       "1     105\n",
       "3     105\n",
       "11    105\n",
       "13    105\n",
       "17    105\n",
       "23    105\n",
       "27    105\n",
       "29    105\n",
       "2     105\n",
       "Name: author, dtype: int64"
      ]
     },
     "execution_count": 14,
     "metadata": {},
     "output_type": "execute_result"
    }
   ],
   "source": [
    "separated_df['author'].value_counts()"
   ]
  },
  {
   "cell_type": "code",
   "execution_count": 15,
   "metadata": {},
   "outputs": [
    {
     "data": {
      "text/html": [
       "<div>\n",
       "<style scoped>\n",
       "    .dataframe tbody tr th:only-of-type {\n",
       "        vertical-align: middle;\n",
       "    }\n",
       "\n",
       "    .dataframe tbody tr th {\n",
       "        vertical-align: top;\n",
       "    }\n",
       "\n",
       "    .dataframe thead th {\n",
       "        text-align: right;\n",
       "    }\n",
       "</style>\n",
       "<table border=\"1\" class=\"dataframe\">\n",
       "  <thead>\n",
       "    <tr style=\"text-align: right;\">\n",
       "      <th></th>\n",
       "      <th></th>\n",
       "      <th>text</th>\n",
       "      <th>author</th>\n",
       "    </tr>\n",
       "    <tr>\n",
       "      <th>author</th>\n",
       "      <th></th>\n",
       "      <th></th>\n",
       "      <th></th>\n",
       "    </tr>\n",
       "  </thead>\n",
       "  <tbody>\n",
       "    <tr>\n",
       "      <td rowspan=\"5\" valign=\"top\">1</td>\n",
       "      <td>296</td>\n",
       "      <td>afraid not here is you can return it when conv...</td>\n",
       "      <td>1</td>\n",
       "    </tr>\n",
       "    <tr>\n",
       "      <td>0</td>\n",
       "      <td>ou have time to listen i will give you the ent...</td>\n",
       "      <td>1</td>\n",
       "    </tr>\n",
       "    <tr>\n",
       "      <td>225</td>\n",
       "      <td>the city without walking wrote the address car...</td>\n",
       "      <td>1</td>\n",
       "    </tr>\n",
       "    <tr>\n",
       "      <td>206</td>\n",
       "      <td>of her error he was glad to have a minute in w...</td>\n",
       "      <td>1</td>\n",
       "    </tr>\n",
       "    <tr>\n",
       "      <td>582</td>\n",
       "      <td>think she never looked better i am growing ver...</td>\n",
       "      <td>1</td>\n",
       "    </tr>\n",
       "    <tr>\n",
       "      <td>...</td>\n",
       "      <td>...</td>\n",
       "      <td>...</td>\n",
       "      <td>...</td>\n",
       "    </tr>\n",
       "    <tr>\n",
       "      <td rowspan=\"5\" valign=\"top\">46</td>\n",
       "      <td>50628</td>\n",
       "      <td>as a the ease with which she could turn her fa...</td>\n",
       "      <td>46</td>\n",
       "    </tr>\n",
       "    <tr>\n",
       "      <td>50474</td>\n",
       "      <td>if you shall the colonel the king of england s...</td>\n",
       "      <td>46</td>\n",
       "    </tr>\n",
       "    <tr>\n",
       "      <td>50624</td>\n",
       "      <td>that at a word he should lose his agent and he...</td>\n",
       "      <td>46</td>\n",
       "    </tr>\n",
       "    <tr>\n",
       "      <td>50363</td>\n",
       "      <td>he ain got de to meek her know he in virginia ...</td>\n",
       "      <td>46</td>\n",
       "    </tr>\n",
       "    <tr>\n",
       "      <td>50401</td>\n",
       "      <td>george â george washington â you mean george w...</td>\n",
       "      <td>46</td>\n",
       "    </tr>\n",
       "  </tbody>\n",
       "</table>\n",
       "<p>2625 rows × 2 columns</p>\n",
       "</div>"
      ],
      "text/plain": [
       "                                                           text  author\n",
       "author                                                                 \n",
       "1      296    afraid not here is you can return it when conv...       1\n",
       "       0      ou have time to listen i will give you the ent...       1\n",
       "       225    the city without walking wrote the address car...       1\n",
       "       206    of her error he was glad to have a minute in w...       1\n",
       "       582    think she never looked better i am growing ver...       1\n",
       "...                                                         ...     ...\n",
       "46     50628  as a the ease with which she could turn her fa...      46\n",
       "       50474  if you shall the colonel the king of england s...      46\n",
       "       50624  that at a word he should lose his agent and he...      46\n",
       "       50363  he ain got de to meek her know he in virginia ...      46\n",
       "       50401  george â george washington â you mean george w...      46\n",
       "\n",
       "[2625 rows x 2 columns]"
      ]
     },
     "execution_count": 15,
     "metadata": {},
     "output_type": "execute_result"
    }
   ],
   "source": [
    "separated_df"
   ]
  },
  {
   "cell_type": "code",
   "execution_count": 16,
   "metadata": {},
   "outputs": [
    {
     "data": {
      "text/html": [
       "<div>\n",
       "<style scoped>\n",
       "    .dataframe tbody tr th:only-of-type {\n",
       "        vertical-align: middle;\n",
       "    }\n",
       "\n",
       "    .dataframe tbody tr th {\n",
       "        vertical-align: top;\n",
       "    }\n",
       "\n",
       "    .dataframe thead th {\n",
       "        text-align: right;\n",
       "    }\n",
       "</style>\n",
       "<table border=\"1\" class=\"dataframe\">\n",
       "  <thead>\n",
       "    <tr style=\"text-align: right;\">\n",
       "      <th></th>\n",
       "      <th>text</th>\n",
       "      <th>author</th>\n",
       "    </tr>\n",
       "  </thead>\n",
       "  <tbody>\n",
       "    <tr>\n",
       "      <td>0</td>\n",
       "      <td>afraid not here is you can return it when conv...</td>\n",
       "      <td>1</td>\n",
       "    </tr>\n",
       "    <tr>\n",
       "      <td>1</td>\n",
       "      <td>ou have time to listen i will give you the ent...</td>\n",
       "      <td>1</td>\n",
       "    </tr>\n",
       "    <tr>\n",
       "      <td>2</td>\n",
       "      <td>the city without walking wrote the address car...</td>\n",
       "      <td>1</td>\n",
       "    </tr>\n",
       "    <tr>\n",
       "      <td>3</td>\n",
       "      <td>of her error he was glad to have a minute in w...</td>\n",
       "      <td>1</td>\n",
       "    </tr>\n",
       "    <tr>\n",
       "      <td>4</td>\n",
       "      <td>think she never looked better i am growing ver...</td>\n",
       "      <td>1</td>\n",
       "    </tr>\n",
       "    <tr>\n",
       "      <td>...</td>\n",
       "      <td>...</td>\n",
       "      <td>...</td>\n",
       "    </tr>\n",
       "    <tr>\n",
       "      <td>2620</td>\n",
       "      <td>as a the ease with which she could turn her fa...</td>\n",
       "      <td>46</td>\n",
       "    </tr>\n",
       "    <tr>\n",
       "      <td>2621</td>\n",
       "      <td>if you shall the colonel the king of england s...</td>\n",
       "      <td>46</td>\n",
       "    </tr>\n",
       "    <tr>\n",
       "      <td>2622</td>\n",
       "      <td>that at a word he should lose his agent and he...</td>\n",
       "      <td>46</td>\n",
       "    </tr>\n",
       "    <tr>\n",
       "      <td>2623</td>\n",
       "      <td>he ain got de to meek her know he in virginia ...</td>\n",
       "      <td>46</td>\n",
       "    </tr>\n",
       "    <tr>\n",
       "      <td>2624</td>\n",
       "      <td>george â george washington â you mean george w...</td>\n",
       "      <td>46</td>\n",
       "    </tr>\n",
       "  </tbody>\n",
       "</table>\n",
       "<p>2625 rows × 2 columns</p>\n",
       "</div>"
      ],
      "text/plain": [
       "                                                   text  author\n",
       "0     afraid not here is you can return it when conv...       1\n",
       "1     ou have time to listen i will give you the ent...       1\n",
       "2     the city without walking wrote the address car...       1\n",
       "3     of her error he was glad to have a minute in w...       1\n",
       "4     think she never looked better i am growing ver...       1\n",
       "...                                                 ...     ...\n",
       "2620  as a the ease with which she could turn her fa...      46\n",
       "2621  if you shall the colonel the king of england s...      46\n",
       "2622  that at a word he should lose his agent and he...      46\n",
       "2623  he ain got de to meek her know he in virginia ...      46\n",
       "2624  george â george washington â you mean george w...      46\n",
       "\n",
       "[2625 rows x 2 columns]"
      ]
     },
     "execution_count": 16,
     "metadata": {},
     "output_type": "execute_result"
    }
   ],
   "source": [
    "separated_df.reset_index(drop=True)"
   ]
  },
  {
   "cell_type": "code",
   "execution_count": 17,
   "metadata": {},
   "outputs": [],
   "source": [
    "train_df = separated_df.reset_index(drop=True).groupby('author').apply(separate_train)"
   ]
  },
  {
   "cell_type": "code",
   "execution_count": 18,
   "metadata": {},
   "outputs": [],
   "source": [
    "test_df = separated_df.reset_index(drop=True).groupby('author').apply(separate_test)"
   ]
  },
  {
   "cell_type": "code",
   "execution_count": 19,
   "metadata": {},
   "outputs": [],
   "source": [
    "train_df.reset_index(drop=True).to_csv('few_shot_train.csv', index=False)\n",
    "test_df.reset_index(drop=True).to_csv('few_shot_test.csv',index=False)"
   ]
  },
  {
   "cell_type": "code",
   "execution_count": null,
   "metadata": {},
   "outputs": [],
   "source": []
  }
 ],
 "metadata": {
  "kernelspec": {
   "display_name": "Python [conda env:author_classification]",
   "language": "python",
   "name": "conda-env-author_classification-py"
  },
  "language_info": {
   "codemirror_mode": {
    "name": "ipython",
    "version": 3
   },
   "file_extension": ".py",
   "mimetype": "text/x-python",
   "name": "python",
   "nbconvert_exporter": "python",
   "pygments_lexer": "ipython3",
   "version": "3.6.0"
  }
 },
 "nbformat": 4,
 "nbformat_minor": 4
}
