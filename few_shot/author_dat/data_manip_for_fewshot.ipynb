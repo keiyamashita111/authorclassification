{
 "cells": [
  {
   "cell_type": "code",
   "execution_count": 2,
   "metadata": {},
   "outputs": [],
   "source": [
    "import pandas as pd"
   ]
  },
  {
   "cell_type": "code",
   "execution_count": 7,
   "metadata": {},
   "outputs": [],
   "source": [
    "test = pd.read_csv('few_shot_test.csv')\n",
    "train = pd.read_csv('few_shot_train.csv')"
   ]
  },
  {
   "cell_type": "code",
   "execution_count": 9,
   "metadata": {},
   "outputs": [
    {
     "name": "stdout",
     "output_type": "stream",
     "text": [
      "(2500, 2)\n",
      "(125, 2)\n"
     ]
    }
   ],
   "source": [
    "print(test.shape)\n",
    "print(train.shape)"
   ]
  },
  {
   "cell_type": "code",
   "execution_count": 22,
   "metadata": {},
   "outputs": [
    {
     "data": {
      "text/plain": [
       "1     100\n",
       "2     100\n",
       "3     100\n",
       "6     100\n",
       "10    100\n",
       "11    100\n",
       "12    100\n",
       "13    100\n",
       "16    100\n",
       "17    100\n",
       "20    100\n",
       "22    100\n",
       "23    100\n",
       "24    100\n",
       "27    100\n",
       "28    100\n",
       "29    100\n",
       "32    100\n",
       "34    100\n",
       "35    100\n",
       "36    100\n",
       "40    100\n",
       "41    100\n",
       "44    100\n",
       "46    100\n",
       "Name: author, dtype: int64"
      ]
     },
     "execution_count": 22,
     "metadata": {},
     "output_type": "execute_result"
    }
   ],
   "source": [
    "test.author.value_counts().sort_index()"
   ]
  },
  {
   "cell_type": "code",
   "execution_count": 23,
   "metadata": {},
   "outputs": [
    {
     "data": {
      "text/plain": [
       "1     5\n",
       "2     5\n",
       "3     5\n",
       "6     5\n",
       "10    5\n",
       "11    5\n",
       "12    5\n",
       "13    5\n",
       "16    5\n",
       "17    5\n",
       "20    5\n",
       "22    5\n",
       "23    5\n",
       "24    5\n",
       "27    5\n",
       "28    5\n",
       "29    5\n",
       "32    5\n",
       "34    5\n",
       "35    5\n",
       "36    5\n",
       "40    5\n",
       "41    5\n",
       "44    5\n",
       "46    5\n",
       "Name: author, dtype: int64"
      ]
     },
     "execution_count": 23,
     "metadata": {},
     "output_type": "execute_result"
    }
   ],
   "source": [
    "train.author.value_counts().sort_index()"
   ]
  },
  {
   "cell_type": "code",
   "execution_count": null,
   "metadata": {},
   "outputs": [],
   "source": []
  }
 ],
 "metadata": {
  "kernelspec": {
   "display_name": "Python [conda env:author_classification]",
   "language": "python",
   "name": "conda-env-author_classification-py"
  },
  "language_info": {
   "codemirror_mode": {
    "name": "ipython",
    "version": 3
   },
   "file_extension": ".py",
   "mimetype": "text/x-python",
   "name": "python",
   "nbconvert_exporter": "python",
   "pygments_lexer": "ipython3",
   "version": "3.6.0"
  }
 },
 "nbformat": 4,
 "nbformat_minor": 4
}
